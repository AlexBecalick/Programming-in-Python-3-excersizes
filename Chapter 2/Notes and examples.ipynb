{
 "metadata": {
  "language_info": {
   "codemirror_mode": {
    "name": "ipython",
    "version": 3
   },
   "file_extension": ".py",
   "mimetype": "text/x-python",
   "name": "python",
   "nbconvert_exporter": "python",
   "pygments_lexer": "ipython3",
   "version": "3.8.5-final"
  },
  "orig_nbformat": 2,
  "kernelspec": {
   "name": "python3",
   "display_name": "Python 3",
   "language": "python"
  }
 },
 "nbformat": 4,
 "nbformat_minor": 2,
 "cells": [
  {
   "source": [
    "Object reference naming conventions:\n",
    "=\n",
    "Do not reuse names of data types, python keywords or built in attributes\n",
    "-\n",
    "Calling dir() with no arguments lists all of Python's built in attributes:"
   ],
   "cell_type": "markdown",
   "metadata": {}
  },
  {
   "cell_type": "code",
   "execution_count": 3,
   "metadata": {},
   "outputs": [
    {
     "output_type": "execute_result",
     "data": {
      "text/plain": [
       "['In',\n",
       " 'Out',\n",
       " '_',\n",
       " '_1',\n",
       " '__',\n",
       " '___',\n",
       " '__builtin__',\n",
       " '__builtins__',\n",
       " '__doc__',\n",
       " '__loader__',\n",
       " '__name__',\n",
       " '__package__',\n",
       " '__spec__',\n",
       " '_dh',\n",
       " '_i',\n",
       " '_i1',\n",
       " '_i2',\n",
       " '_i3',\n",
       " '_ih',\n",
       " '_ii',\n",
       " '_iii',\n",
       " '_oh',\n",
       " 'exit',\n",
       " 'get_ipython',\n",
       " 'quit']"
      ]
     },
     "metadata": {},
     "execution_count": 3
    }
   ],
   "source": [
    "dir()"
   ]
  },
  {
   "source": [
    "The __builtins__ attribute is, in effect, a module that holds all of Python’s\n",
    "built-in attributes. We can use it as an argument to the dir() function. Those\n",
    "that begin with a capital letter are the names of Python’s built-in exceptions;\n",
    "the rest are function and data type names:"
   ],
   "cell_type": "markdown",
   "metadata": {}
  },
  {
   "cell_type": "code",
   "execution_count": 4,
   "metadata": {},
   "outputs": [
    {
     "output_type": "execute_result",
     "data": {
      "text/plain": [
       "['ArithmeticError',\n",
       " 'AssertionError',\n",
       " 'AttributeError',\n",
       " 'BaseException',\n",
       " 'BlockingIOError',\n",
       " 'BrokenPipeError',\n",
       " 'BufferError',\n",
       " 'BytesWarning',\n",
       " 'ChildProcessError',\n",
       " 'ConnectionAbortedError',\n",
       " 'ConnectionError',\n",
       " 'ConnectionRefusedError',\n",
       " 'ConnectionResetError',\n",
       " 'DeprecationWarning',\n",
       " 'EOFError',\n",
       " 'Ellipsis',\n",
       " 'EnvironmentError',\n",
       " 'Exception',\n",
       " 'False',\n",
       " 'FileExistsError',\n",
       " 'FileNotFoundError',\n",
       " 'FloatingPointError',\n",
       " 'FutureWarning',\n",
       " 'GeneratorExit',\n",
       " 'IOError',\n",
       " 'ImportError',\n",
       " 'ImportWarning',\n",
       " 'IndentationError',\n",
       " 'IndexError',\n",
       " 'InterruptedError',\n",
       " 'IsADirectoryError',\n",
       " 'KeyError',\n",
       " 'KeyboardInterrupt',\n",
       " 'LookupError',\n",
       " 'MemoryError',\n",
       " 'ModuleNotFoundError',\n",
       " 'NameError',\n",
       " 'None',\n",
       " 'NotADirectoryError',\n",
       " 'NotImplemented',\n",
       " 'NotImplementedError',\n",
       " 'OSError',\n",
       " 'OverflowError',\n",
       " 'PendingDeprecationWarning',\n",
       " 'PermissionError',\n",
       " 'ProcessLookupError',\n",
       " 'RecursionError',\n",
       " 'ReferenceError',\n",
       " 'ResourceWarning',\n",
       " 'RuntimeError',\n",
       " 'RuntimeWarning',\n",
       " 'StopAsyncIteration',\n",
       " 'StopIteration',\n",
       " 'SyntaxError',\n",
       " 'SyntaxWarning',\n",
       " 'SystemError',\n",
       " 'SystemExit',\n",
       " 'TabError',\n",
       " 'TimeoutError',\n",
       " 'True',\n",
       " 'TypeError',\n",
       " 'UnboundLocalError',\n",
       " 'UnicodeDecodeError',\n",
       " 'UnicodeEncodeError',\n",
       " 'UnicodeError',\n",
       " 'UnicodeTranslateError',\n",
       " 'UnicodeWarning',\n",
       " 'UserWarning',\n",
       " 'ValueError',\n",
       " 'Warning',\n",
       " 'WindowsError',\n",
       " 'ZeroDivisionError',\n",
       " '__IPYTHON__',\n",
       " '__build_class__',\n",
       " '__debug__',\n",
       " '__doc__',\n",
       " '__import__',\n",
       " '__loader__',\n",
       " '__name__',\n",
       " '__package__',\n",
       " '__spec__',\n",
       " 'abs',\n",
       " 'all',\n",
       " 'any',\n",
       " 'ascii',\n",
       " 'bin',\n",
       " 'bool',\n",
       " 'breakpoint',\n",
       " 'bytearray',\n",
       " 'bytes',\n",
       " 'callable',\n",
       " 'chr',\n",
       " 'classmethod',\n",
       " 'compile',\n",
       " 'complex',\n",
       " 'copyright',\n",
       " 'credits',\n",
       " 'delattr',\n",
       " 'dict',\n",
       " 'dir',\n",
       " 'display',\n",
       " 'divmod',\n",
       " 'enumerate',\n",
       " 'eval',\n",
       " 'exec',\n",
       " 'filter',\n",
       " 'float',\n",
       " 'format',\n",
       " 'frozenset',\n",
       " 'get_ipython',\n",
       " 'getattr',\n",
       " 'globals',\n",
       " 'hasattr',\n",
       " 'hash',\n",
       " 'help',\n",
       " 'hex',\n",
       " 'id',\n",
       " 'input',\n",
       " 'int',\n",
       " 'isinstance',\n",
       " 'issubclass',\n",
       " 'iter',\n",
       " 'len',\n",
       " 'license',\n",
       " 'list',\n",
       " 'locals',\n",
       " 'map',\n",
       " 'max',\n",
       " 'memoryview',\n",
       " 'min',\n",
       " 'next',\n",
       " 'object',\n",
       " 'oct',\n",
       " 'open',\n",
       " 'ord',\n",
       " 'pow',\n",
       " 'print',\n",
       " 'property',\n",
       " 'range',\n",
       " 'repr',\n",
       " 'reversed',\n",
       " 'round',\n",
       " 'set',\n",
       " 'setattr',\n",
       " 'slice',\n",
       " 'sorted',\n",
       " 'staticmethod',\n",
       " 'str',\n",
       " 'sum',\n",
       " 'super',\n",
       " 'tuple',\n",
       " 'type',\n",
       " 'vars',\n",
       " 'zip']"
      ]
     },
     "metadata": {},
     "execution_count": 4
    }
   ],
   "source": [
    "dir(__builtins__)"
   ]
  },
  {
   "source": [
    "Names that begin and end with two underscores (such as __lt__) should not be used. Python defines various special methods and variables that use such names\n",
    "-"
   ],
   "cell_type": "markdown",
   "metadata": {}
  },
  {
   "source": [
    "The easiest way to check whether something is a valid identifier is to try to\n",
    "assign to it in an interactive Python interpreter:"
   ],
   "cell_type": "markdown",
   "metadata": {}
  },
  {
   "cell_type": "code",
   "execution_count": 11,
   "metadata": {},
   "outputs": [
    {
     "output_type": "error",
     "ename": "SyntaxError",
     "evalue": "cannot assign to operator (<ipython-input-11-76d7f333723d>, line 1)",
     "traceback": [
      "\u001b[1;36m  File \u001b[1;32m\"<ipython-input-11-76d7f333723d>\"\u001b[1;36m, line \u001b[1;32m1\u001b[0m\n\u001b[1;33m    stretch-factor = 1 #This assignment fails because “-” is not a Unicode letter, digit, or underscore.\u001b[0m\n\u001b[1;37m    ^\u001b[0m\n\u001b[1;31mSyntaxError\u001b[0m\u001b[1;31m:\u001b[0m cannot assign to operator\n"
     ]
    }
   ],
   "source": [
    "stretch-factor = 1 #This assignment fails because “-” is not a Unicode letter, digit, or underscore."
   ]
  },
  {
   "cell_type": "code",
   "execution_count": 7,
   "metadata": {},
   "outputs": [
    {
     "output_type": "error",
     "ename": "SyntaxError",
     "evalue": "invalid syntax (<ipython-input-7-8b2c5ddd52bf>, line 1)",
     "traceback": [
      "\u001b[1;36m  File \u001b[1;32m\"<ipython-input-7-8b2c5ddd52bf>\"\u001b[1;36m, line \u001b[1;32m1\u001b[0m\n\u001b[1;33m    2miles = 2\u001b[0m\n\u001b[1;37m     ^\u001b[0m\n\u001b[1;31mSyntaxError\u001b[0m\u001b[1;31m:\u001b[0m invalid syntax\n"
     ]
    }
   ],
   "source": [
    "2miles = 2 #fails because the start character is not a Unicode letter or underscore"
   ]
  },
  {
   "cell_type": "code",
   "execution_count": 8,
   "metadata": {},
   "outputs": [],
   "source": [
    "str = 3 # Legal but BAD"
   ]
  },
  {
   "cell_type": "code",
   "execution_count": 9,
   "metadata": {},
   "outputs": [
    {
     "output_type": "error",
     "ename": "SyntaxError",
     "evalue": "EOL while scanning string literal (<ipython-input-9-3731f1bc0fe5>, line 1)",
     "traceback": [
      "\u001b[1;36m  File \u001b[1;32m\"<ipython-input-9-3731f1bc0fe5>\"\u001b[1;36m, line \u001b[1;32m1\u001b[0m\n\u001b[1;33m    l'impôt31 = 4\u001b[0m\n\u001b[1;37m                 ^\u001b[0m\n\u001b[1;31mSyntaxError\u001b[0m\u001b[1;31m:\u001b[0m EOL while scanning string literal\n"
     ]
    }
   ],
   "source": [
    "l'impôt31 = 4 #fails because a quote is not a Unicode letter, digit, or underscore"
   ]
  },
  {
   "cell_type": "code",
   "execution_count": 10,
   "metadata": {},
   "outputs": [],
   "source": [
    "l_impôt31 = 5 #this is fine"
   ]
  },
  {
   "source": [
    "Integral Types\n",
    "=\n",
    "When used in Boolean expressions, 0 and False\n",
    "are False, and any other integer and True are True. When used in numerical\n",
    "expressions True evaluates to 1 and False to 0."
   ],
   "cell_type": "markdown",
   "metadata": {}
  },
  {
   "source": [
    "Syntax Description\n",
    "x + y Adds number x and number y\n",
    "\n",
    "x - y Subtracts y from x\n",
    "\n",
    "x * y Multiplies x by y\n",
    "\n",
    "x / y Divides x by y; always produces a float (or a complex if x or y\n",
    "is complex)\n",
    "\n",
    "x // y Divides x by y; truncates any fractional part so always produces\n",
    "an int result; see also the round() function\n",
    "\n",
    "x % y Produces the modulus (remainder) of dividing x by y\n",
    "\n",
    "x ** y Raises x to the power of y; see also the pow() functions\n",
    "\n",
    "-x  changes x’s sign if nonzero, does nothing if zero\n",
    "\n",
    "+x Does nothing; is sometimes used to clarify code\n",
    "\n",
    "abs(x) Returns the absolute value of x\n",
    "\n",
    "divmod(x, y) Returns the quotient and remainder of dividing x by y as a tuple of two ints\n",
    "\n",
    "pow(x, y) Raises x to the power of y; the same as the ** operator\n",
    "\n",
    "pow(x, y, z) A faster alternative to (x ** y) % z\n",
    "\n",
    "round(x, n) Returns x rounded to n integral digits if n is a negative int or returns x rounded to n decimal places if n is a positive int; the returned value has the same type as x; see the text\n",
    "\n",
    "bin(i) Returns the binary representation of int i as a string, e.g., bin(1980) == '0b11110111100'\n",
    "\n",
    "hex(i) Returns the hexadecimal representation of i as a string, e.g., hex(1980) == '0x7bc'\n",
    "\n",
    "int(x) Converts object x to an integer; raises ValueError on failure—or TypeError if x’s data type does not support integer conversion. If x is a floating-point number it is truncated.\n",
    "\n",
    "int(s, base) Converts str s to an integer; raises ValueError on failure. If the optional base argument is given it should be an integer between 2 and 36 inclusive.\n",
    "\n",
    "oct(i) Returns the octal representation of i as a string, e.g. oct(1980) == '0o3674'"
   ],
   "cell_type": "code",
   "metadata": {},
   "execution_count": null,
   "outputs": []
  },
  {
   "cell_type": "code",
   "execution_count": 21,
   "metadata": {},
   "outputs": [
    {
     "output_type": "execute_result",
     "data": {
      "text/plain": [
       "(3, 1)"
      ]
     },
     "metadata": {},
     "execution_count": 21
    }
   ],
   "source": [
    "divmod(16, 5)"
   ]
  },
  {
   "source": [
    "Binary numbers are written with a leading 0b, octal numbers with a leading 0o,★ and hexadecimal numbers with a leading 0x. Uppercase letters can also be used.\n",
    "-"
   ],
   "cell_type": "markdown",
   "metadata": {}
  },
  {
   "source": [
    "When a negative rounding value is used on integers a subtle and useful behavior is achieved—for\n",
    "example, round(13579, -3) produces 14000, and round(34.8, -1) produces 30.0."
   ],
   "cell_type": "markdown",
   "metadata": {}
  },
  {
   "source": [
    "Bitwise operators are operators (just like +, *, &&, etc.) that operate on ints and uints at the binary level. This means they look directly at the binary digits or bits of an integer\n",
    "-"
   ],
   "cell_type": "markdown",
   "metadata": {}
  },
  {
   "cell_type": "code",
   "execution_count": null,
   "metadata": {},
   "outputs": [],
   "source": [
    "Syntax Description\n",
    "i & j Bitwise AND of i and j\n",
    "Normally, ints take up 4 bytes or 32 bits of space. This means each int is stored as 32 binary digits\n",
    "The & operator compares each binary digit of two integers and returns a new integer, with a 1 wherever both numbers had a 1 and a 0 anywhere else. \n",
    "\n",
    "\n",
    "\n",
    "i | j Bitwise OR of int i and int j; negative numbers are assumed to be represented using 2’s complement\n",
    "\n",
    "i ^ j Bitwise XOR (exclusive or) of i and j\n",
    "\n",
    "i << j Shifts i left by j bits; like i * (2 ** j) without overflow checking\n",
    "\n",
    "i >> j Shifts i right by j bits; like i // (2 ** j) without overflow checking\n",
    "\n",
    "~i Inverts i’s bits"
   ]
  },
  {
   "source": [
    "Booleans\n",
    "=\n",
    "Python provides three logical operators: and, or, and not.\n",
    "Both and and or use short-circuit logic and return the operand that determined\n",
    "the result, whereas not always returns either True or False.\n",
    "Programmers who have been using older versions of Python sometimes use\n",
    "1 and 0 instead of True and False; this almost always works fine, but new code\n",
    "should use the built-in Boolean objects when a Boolean value is required."
   ],
   "cell_type": "markdown",
   "metadata": {}
  },
  {
   "source": [
    "Floating-Point Types\n",
    "=\n",
    "Python provides three kinds of floating-point values: the built-in float and\n",
    "complex types,and the decimal.Decimal type from the standard library. Computers natively represent floating-point numbers using base 2—this\n",
    "means that some decimals can be represented exactly (such as 0.5), but others\n",
    "only approximately (such as 0.1and 0.2)."
   ],
   "cell_type": "markdown",
   "metadata": {}
  },
  {
   "source": [
    "If we need really high precision there are two approaches we can take. One\n",
    "approach is to use ints—for example, working in terms of pennies or tenths of\n",
    "a penny or similar—and scale the numbers when necessary. This requires us\n",
    "to be quite careful, especially when dividing or taking percentages. The other\n",
    "approach is to use Python’s decimal.Decimal numbers from the decimal module."
   ],
   "cell_type": "markdown",
   "metadata": {}
  },
  {
   "source": [
    "Mixed mode arithmetic is supported such that using an int and a float produces\n",
    "a float, and using a float and a complex produces a complex. Because decimal.\n",
    "Decimals are of fixed precision they can be used only with other decimal.\n",
    "Decimals and with ints, in the latter case producing a decimal.Decimal result."
   ],
   "cell_type": "markdown",
   "metadata": {}
  },
  {
   "source": [
    "It is possible that NaN (“not a number”) or “infinity” may be produced by a calculation involving floats—unfortunately the behavior is not consistent across implementations and may differ depending on the system’s underlying math library."
   ],
   "cell_type": "markdown",
   "metadata": {}
  },
  {
   "source": [
    "Here is a simple function for comparing floats for equality to the limit of the machine’s accuracy:\n",
    "-"
   ],
   "cell_type": "markdown",
   "metadata": {}
  },
  {
   "cell_type": "code",
   "execution_count": 84,
   "metadata": {},
   "outputs": [],
   "source": [
    "import sys\n",
    "\n",
    "def equal_float(a, b):\n",
    "    return abs(a - b) <= sys.float_info.epsilon"
   ]
  },
  {
   "cell_type": "code",
   "execution_count": 86,
   "metadata": {},
   "outputs": [
    {
     "output_type": "execute_result",
     "data": {
      "text/plain": [
       "sys.float_info(max=1.7976931348623157e+308, max_exp=1024, max_10_exp=308, min=2.2250738585072014e-308, min_exp=-1021, min_10_exp=-307, dig=15, mant_dig=53, epsilon=2.220446049250313e-16, radix=2, rounds=1)"
      ]
     },
     "metadata": {},
     "execution_count": 86
    }
   ],
   "source": [
    "sys.float_info"
   ]
  },
  {
   "source": [
    "Floating-point numbers can be converted to integers using the int() function which returns the whole part and throws away the fractional part, or using round() which accounts for the fractional part, or using math.floor() or math.ceil() which convert down to or up to the nearest integer.\n",
    "-"
   ],
   "cell_type": "markdown",
   "metadata": {}
  },
  {
   "source": [
    "Complex Numbers\n",
    "=\n",
    "Literal complex numbers are written with the real and imaginary parts joined by a + or - sign, and with the imaginary part followed by a j. The separate parts of a complex are available as attributes real and imag. For example:"
   ],
   "cell_type": "markdown",
   "metadata": {}
  },
  {
   "cell_type": "code",
   "execution_count": 87,
   "metadata": {},
   "outputs": [
    {
     "output_type": "execute_result",
     "data": {
      "text/plain": [
       "(-89.5, 2.125)"
      ]
     },
     "metadata": {},
     "execution_count": 87
    }
   ],
   "source": [
    "z = -89.5+2.125j\n",
    "z.real, z.imag"
   ]
  },
  {
   "source": [
    "Except for //, %, divmod(), and the three-argument pow(), all the numeric operators and functions can be used with complex numbers, and so can the augmented assignment versions."
   ],
   "cell_type": "markdown",
   "metadata": {}
  },
  {
   "source": [
    "Decimal Numbers\n",
    "=\n",
    "The decimal module provides\n",
    "immutable Decimal numbers that are as accurate as we specify. Calculations\n",
    "involving Decimals are slower than those involving floats, but whether this is\n",
    "noticeable will depend on the application.\n"
   ],
   "cell_type": "markdown",
   "metadata": {}
  },
  {
   "cell_type": "code",
   "execution_count": 88,
   "metadata": {},
   "outputs": [
    {
     "output_type": "execute_result",
     "data": {
      "text/plain": [
       "Decimal('64197.012345678987654321')"
      ]
     },
     "metadata": {},
     "execution_count": 88
    }
   ],
   "source": [
    "import decimal\n",
    "a = decimal.Decimal(9876)\n",
    "b = decimal.Decimal(\"54321.012345678987654321\") #This function can take an integer or a string argument but not a float\n",
    "a + b"
   ]
  },
  {
   "source": [
    "From Python 3.1 it is possible to convert floats to decimals using the deci- 3.1\n",
    "mal.Decimal.from_float() function. This function takes a float as argument\n",
    "and returns the decimal.Decimal that is closest to the number the float approximates."
   ],
   "cell_type": "markdown",
   "metadata": {}
  },
  {
   "source": [
    "The math and cmath modules are not suitable for use with decimal.Decimals,\n",
    "but some of the functions provided by the math module are provided as decimal.\n",
    "Decimal methods. For example, to calculate ex where x is a float, we write\n",
    "math.exp(x), but where x is a decimal.Decimal, we write x.exp().\n",
    "\n",
    "The decimal.Decimal data type also provides ln() which calculates the natural\n",
    "(base e) logarithm (just like math.log() with one argument), log10(), and sqrt(),\n",
    "along with many other methods specific to the decimal.Decimal data type."
   ],
   "cell_type": "markdown",
   "metadata": {}
  },
  {
   "source": [
    "When we call print() on the result of decimal.Decimal(23) / decimal.\n",
    "Decimal(\"1.05\") the bare number is printed—this output is in string form.\n",
    "If we simply enter the expression we get a decimal.Decimal output—this output\n",
    "is in representational form.\n",
    "\n",
    "All Python objects have two output forms. String\n",
    "form is designed to be human-readable. Representational form is designed to\n",
    "produce output that if fed to a Python interpreter would (when possible) reproduce\n",
    "the represented object."
   ],
   "cell_type": "markdown",
   "metadata": {}
  },
  {
   "source": [
    "Strings\n",
    "=\n",
    "\n",
    "String literals are created using quotes, and we\n",
    "are free to use single or double quotes providing we use the same at both ends.\n",
    "\n",
    "\n",
    "We can also use a triple quoted string — this is Python-speak for a string\n",
    "that begins and ends with three quote characters (either three single quotes or\n",
    "three double quotes). For example:"
   ],
   "cell_type": "markdown",
   "metadata": {}
  },
  {
   "cell_type": "code",
   "execution_count": 94,
   "metadata": {},
   "outputs": [
    {
     "output_type": "execute_result",
     "data": {
      "text/plain": [
       "'A triple quoted string like this can include \\'quotes\\' and\\n\"quotes\" without formality. We can also escape newlines so this particular string is actually only two lines long.'"
      ]
     },
     "metadata": {},
     "execution_count": 94
    }
   ],
   "source": [
    "text = \"\"\"A triple quoted string like this can include 'quotes' and\n",
    "\"quotes\" without formality. We can also escape newlines \\\n",
    "so this particular string is actually only two lines long.\"\"\"\n",
    "\n",
    "text"
   ]
  },
  {
   "source": [
    "Escape Meaning\n",
    "\\newline Escape (i.e., ignore) the newline\n",
    "\\\\ Backslash (\\)\n",
    "\\' Single quote (’)\n",
    "\\\" Double quote (\")\n",
    "\\a ASCII bell (BEL)\n",
    "\\b ASCII backspace (BS)\n",
    "\\f ASCII formfeed (FF)\n",
    "\\n ASCII linefeed (LF)\n",
    "\\N{name} Unicode character with the given name\n",
    "\\ooo Character with the given octal value\n",
    "\\r ASCII carriage return (CR)\n",
    "\\t ASCII tab (TAB)\n",
    "\\uhhhh Unicode character with the given 16-bit hexadecimal value\n",
    "\\Uhhhhhhhh Unicode character with the given 32-bit hexadecimal value\n",
    "\\v ASCII vertical tab (VT)\n",
    "\\xhh Character with the given 8-bit hexadecimal value"
   ],
   "cell_type": "code",
   "metadata": {},
   "execution_count": null,
   "outputs": []
  },
  {
   "source": [
    "If we want to use quotes inside a normal quoted string we can do so without\n",
    "formality if they are different from the delimiting quotes; otherwise, we must\n",
    "escape them:"
   ],
   "cell_type": "markdown",
   "metadata": {}
  },
  {
   "cell_type": "code",
   "execution_count": 95,
   "metadata": {},
   "outputs": [],
   "source": [
    "a = \"Single 'quotes' are fine; \\\"doubles\\\" must be escaped.\"\n",
    "b = 'Single \\'quotes\\' must be escaped; \"doubles\" are fine.'"
   ]
  },
  {
   "cell_type": "code",
   "execution_count": null,
   "metadata": {},
   "outputs": [],
   "source": []
  }
 ]
}